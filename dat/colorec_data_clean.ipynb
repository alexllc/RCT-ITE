{
 "cells": [
  {
   "cell_type": "code",
   "execution_count": 1,
   "metadata": {},
   "outputs": [
    {
     "name": "stderr",
     "output_type": "stream",
     "text": [
      "\n",
      "Attaching package: ‘dplyr’\n",
      "\n",
      "\n",
      "The following objects are masked from ‘package:stats’:\n",
      "\n",
      "    filter, lag\n",
      "\n",
      "\n",
      "The following objects are masked from ‘package:base’:\n",
      "\n",
      "    intersect, setdiff, setequal, union\n",
      "\n",
      "\n"
     ]
    }
   ],
   "source": [
    "# Load data cleaning libraries\n",
    "library(dplyr)\n",
    "library(impute)"
   ]
  },
  {
   "cell_type": "markdown",
   "metadata": {},
   "source": [
    "# NCT00079274\n",
    "four-arm intergroup trial\n",
    "## Inclusion\n",
    "KRAS mutation predicts lack of EGFR inhibitor efficacy, so they only enrolled KRAS wt patients in this trial.\n",
    "\n",
    "## Statistics consideration\n",
    "\n",
    "> This comparison using all 2910 patients will have 90% power to detect a hazard ratio of 1.27 comparing the two treatment arms, based on a total of 735 events.\n",
    "\n",
    "\n",
    "|KRAS status | Treatment | Control |\n",
    "|------------|-----------|---------|\n",
    "|wt | 5-fluorouracil/Leucovorin + Cetuximab + Irinotecan (Arm B) |  5-fluorouracil/Leucovorin + Irinotecan (Arm E and F) |\n",
    "|mutant | 5-fluorouracil/Leucovorin + Irinotecan (Arm C) | |\n",
    "|wt | (FOLFOX) Oxaliplatin + 5-fluorouracil/Leucovorin Regimen (Arm A) | FOLFOX + Cetuximab (Arm D) |  \n",
    "\n",
    "About the arms:\n",
    "| Cohort | Patient number |\n",
    "|-----|----------------|\n",
    "| A | 1402 |\n",
    "| B | 111 |\n",
    "| C | 111 |\n",
    "| D | 1350 |\n",
    "| E | 45 |\n",
    "| F | 46 |\n",
    "| G | 332 |\n",
    "\n",
    "\n",
    "According to [clinicaltrials.gov](https://clinicaltrials.gov/ct2/show/NCT00079274), the primary outcome is compared with arm A vs arm D.\n",
    "But for investigational purpose, we can also do:\n",
    "- arm B vs arm E&F\n",
    "- arm B vs arm E&F&C -> this should rediscover if KRAS mut is really a predictor of EGFR inhibitor efficacy\n",
    "\n",
    "## Outcome measures\n",
    "- Primary: disease free survival\n",
    "- Overall survival\n",
    "- Progression free survival\n",
    "\n"
   ]
  },
  {
   "cell_type": "code",
   "execution_count": 1,
   "metadata": {},
   "outputs": [
    {
     "data": {
      "text/html": [
       "<table class=\"dataframe\">\n",
       "<caption>A data.frame: 6 × 22</caption>\n",
       "<thead>\n",
       "\t<tr><th></th><th scope=col>mask_id</th><th scope=col>ADHERENC</th><th scope=col>ARM</th><th scope=col>BWL_OBS</th><th scope=col>BWL_PERF</th><th scope=col>EXCLUDED</th><th scope=col>HISTO_G</th><th scope=col>NODES</th><th scope=col>SEX</th><th scope=col>STAGE_G</th><th scope=col>⋯</th><th scope=col>ENDATRSN</th><th scope=col>NUMCYCLE</th><th scope=col>OBJ_STAT</th><th scope=col>LOST2FUP</th><th scope=col>PS</th><th scope=col>wild</th><th scope=col>endat_time</th><th scope=col>bmi2</th><th scope=col>racecat</th><th scope=col>agecat</th></tr>\n",
       "\t<tr><th></th><th scope=col>&lt;int&gt;</th><th scope=col>&lt;int&gt;</th><th scope=col>&lt;chr&gt;</th><th scope=col>&lt;int&gt;</th><th scope=col>&lt;int&gt;</th><th scope=col>&lt;int&gt;</th><th scope=col>&lt;int&gt;</th><th scope=col>&lt;int&gt;</th><th scope=col>&lt;chr&gt;</th><th scope=col>&lt;int&gt;</th><th scope=col>⋯</th><th scope=col>&lt;int&gt;</th><th scope=col>&lt;int&gt;</th><th scope=col>&lt;int&gt;</th><th scope=col>&lt;chr&gt;</th><th scope=col>&lt;int&gt;</th><th scope=col>&lt;int&gt;</th><th scope=col>&lt;int&gt;</th><th scope=col>&lt;dbl&gt;</th><th scope=col>&lt;chr&gt;</th><th scope=col>&lt;chr&gt;</th></tr>\n",
       "</thead>\n",
       "<tbody>\n",
       "\t<tr><th scope=row>1</th><td>1</td><td>2</td><td>A</td><td>2</td><td>2</td><td> 8</td><td>2</td><td>2</td><td>f</td><td>2</td><td>⋯</td><td>1</td><td>12</td><td>0</td><td></td><td>0</td><td>1</td><td>180</td><td>20.97448</td><td>oth</td><td>40-69</td></tr>\n",
       "\t<tr><th scope=row>2</th><td>2</td><td>2</td><td>D</td><td>2</td><td>2</td><td>NA</td><td>2</td><td>1</td><td>m</td><td>1</td><td>⋯</td><td>1</td><td>12</td><td>8</td><td></td><td>0</td><td>1</td><td>165</td><td>29.13717</td><td>w  </td><td>40-69</td></tr>\n",
       "\t<tr><th scope=row>3</th><td>3</td><td>2</td><td>D</td><td>2</td><td>2</td><td>NA</td><td>2</td><td>1</td><td>f</td><td>2</td><td>⋯</td><td>1</td><td>12</td><td>8</td><td></td><td>0</td><td>1</td><td>181</td><td>49.27095</td><td>w  </td><td>40-69</td></tr>\n",
       "\t<tr><th scope=row>4</th><td>4</td><td>2</td><td>A</td><td>2</td><td>2</td><td>NA</td><td>2</td><td>2</td><td>m</td><td>3</td><td>⋯</td><td>1</td><td>12</td><td>0</td><td></td><td>0</td><td>0</td><td>157</td><td>31.57283</td><td>w  </td><td>40-69</td></tr>\n",
       "\t<tr><th scope=row>5</th><td>5</td><td>1</td><td>D</td><td>2</td><td>2</td><td>NA</td><td>1</td><td>2</td><td>m</td><td>3</td><td>⋯</td><td>1</td><td>12</td><td>0</td><td></td><td>0</td><td>1</td><td>176</td><td>16.77694</td><td>w  </td><td>40-69</td></tr>\n",
       "\t<tr><th scope=row>6</th><td>6</td><td>2</td><td>D</td><td>2</td><td>2</td><td>NA</td><td>2</td><td>1</td><td>f</td><td>2</td><td>⋯</td><td>1</td><td>12</td><td>0</td><td></td><td>0</td><td>0</td><td>166</td><td>22.69562</td><td>w  </td><td>40-69</td></tr>\n",
       "</tbody>\n",
       "</table>\n"
      ],
      "text/latex": [
       "A data.frame: 6 × 22\n",
       "\\begin{tabular}{r|lllllllllllllllllllll}\n",
       "  & mask\\_id & ADHERENC & ARM & BWL\\_OBS & BWL\\_PERF & EXCLUDED & HISTO\\_G & NODES & SEX & STAGE\\_G & ⋯ & ENDATRSN & NUMCYCLE & OBJ\\_STAT & LOST2FUP & PS & wild & endat\\_time & bmi2 & racecat & agecat\\\\\n",
       "  & <int> & <int> & <chr> & <int> & <int> & <int> & <int> & <int> & <chr> & <int> & ⋯ & <int> & <int> & <int> & <chr> & <int> & <int> & <int> & <dbl> & <chr> & <chr>\\\\\n",
       "\\hline\n",
       "\t1 & 1 & 2 & A & 2 & 2 &  8 & 2 & 2 & f & 2 & ⋯ & 1 & 12 & 0 &  & 0 & 1 & 180 & 20.97448 & oth & 40-69\\\\\n",
       "\t2 & 2 & 2 & D & 2 & 2 & NA & 2 & 1 & m & 1 & ⋯ & 1 & 12 & 8 &  & 0 & 1 & 165 & 29.13717 & w   & 40-69\\\\\n",
       "\t3 & 3 & 2 & D & 2 & 2 & NA & 2 & 1 & f & 2 & ⋯ & 1 & 12 & 8 &  & 0 & 1 & 181 & 49.27095 & w   & 40-69\\\\\n",
       "\t4 & 4 & 2 & A & 2 & 2 & NA & 2 & 2 & m & 3 & ⋯ & 1 & 12 & 0 &  & 0 & 0 & 157 & 31.57283 & w   & 40-69\\\\\n",
       "\t5 & 5 & 1 & D & 2 & 2 & NA & 1 & 2 & m & 3 & ⋯ & 1 & 12 & 0 &  & 0 & 1 & 176 & 16.77694 & w   & 40-69\\\\\n",
       "\t6 & 6 & 2 & D & 2 & 2 & NA & 2 & 1 & f & 2 & ⋯ & 1 & 12 & 0 &  & 0 & 0 & 166 & 22.69562 & w   & 40-69\\\\\n",
       "\\end{tabular}\n"
      ],
      "text/markdown": [
       "\n",
       "A data.frame: 6 × 22\n",
       "\n",
       "| <!--/--> | mask_id &lt;int&gt; | ADHERENC &lt;int&gt; | ARM &lt;chr&gt; | BWL_OBS &lt;int&gt; | BWL_PERF &lt;int&gt; | EXCLUDED &lt;int&gt; | HISTO_G &lt;int&gt; | NODES &lt;int&gt; | SEX &lt;chr&gt; | STAGE_G &lt;int&gt; | ⋯ ⋯ | ENDATRSN &lt;int&gt; | NUMCYCLE &lt;int&gt; | OBJ_STAT &lt;int&gt; | LOST2FUP &lt;chr&gt; | PS &lt;int&gt; | wild &lt;int&gt; | endat_time &lt;int&gt; | bmi2 &lt;dbl&gt; | racecat &lt;chr&gt; | agecat &lt;chr&gt; |\n",
       "|---|---|---|---|---|---|---|---|---|---|---|---|---|---|---|---|---|---|---|---|---|---|\n",
       "| 1 | 1 | 2 | A | 2 | 2 |  8 | 2 | 2 | f | 2 | ⋯ | 1 | 12 | 0 | <!----> | 0 | 1 | 180 | 20.97448 | oth | 40-69 |\n",
       "| 2 | 2 | 2 | D | 2 | 2 | NA | 2 | 1 | m | 1 | ⋯ | 1 | 12 | 8 | <!----> | 0 | 1 | 165 | 29.13717 | w   | 40-69 |\n",
       "| 3 | 3 | 2 | D | 2 | 2 | NA | 2 | 1 | f | 2 | ⋯ | 1 | 12 | 8 | <!----> | 0 | 1 | 181 | 49.27095 | w   | 40-69 |\n",
       "| 4 | 4 | 2 | A | 2 | 2 | NA | 2 | 2 | m | 3 | ⋯ | 1 | 12 | 0 | <!----> | 0 | 0 | 157 | 31.57283 | w   | 40-69 |\n",
       "| 5 | 5 | 1 | D | 2 | 2 | NA | 1 | 2 | m | 3 | ⋯ | 1 | 12 | 0 | <!----> | 0 | 1 | 176 | 16.77694 | w   | 40-69 |\n",
       "| 6 | 6 | 2 | D | 2 | 2 | NA | 2 | 1 | f | 2 | ⋯ | 1 | 12 | 0 | <!----> | 0 | 0 | 166 | 22.69562 | w   | 40-69 |\n",
       "\n"
      ],
      "text/plain": [
       "  mask_id ADHERENC ARM BWL_OBS BWL_PERF EXCLUDED HISTO_G NODES SEX STAGE_G ⋯\n",
       "1 1       2        A   2       2         8       2       2     f   2       ⋯\n",
       "2 2       2        D   2       2        NA       2       1     m   1       ⋯\n",
       "3 3       2        D   2       2        NA       2       1     f   2       ⋯\n",
       "4 4       2        A   2       2        NA       2       2     m   3       ⋯\n",
       "5 5       1        D   2       2        NA       1       2     m   3       ⋯\n",
       "6 6       2        D   2       2        NA       2       1     f   2       ⋯\n",
       "  ENDATRSN NUMCYCLE OBJ_STAT LOST2FUP PS wild endat_time bmi2     racecat\n",
       "1 1        12       0                 0  1    180        20.97448 oth    \n",
       "2 1        12       8                 0  1    165        29.13717 w      \n",
       "3 1        12       8                 0  1    181        49.27095 w      \n",
       "4 1        12       0                 0  0    157        31.57283 w      \n",
       "5 1        12       0                 0  1    176        16.77694 w      \n",
       "6 1        12       0                 0  0    166        22.69562 w      \n",
       "  agecat\n",
       "1 40-69 \n",
       "2 40-69 \n",
       "3 40-69 \n",
       "4 40-69 \n",
       "5 40-69 \n",
       "6 40-69 "
      ]
     },
     "metadata": {},
     "output_type": "display_data"
    },
    {
     "data": {
      "text/html": [
       "<table class=\"dataframe\">\n",
       "<caption>A data.frame: 6 × 7</caption>\n",
       "<thead>\n",
       "\t<tr><th></th><th scope=col>mask_id</th><th scope=col>fustat8</th><th scope=col>futime8</th><th scope=col>pgstat5</th><th scope=col>pgtime5</th><th scope=col>dfsstat5</th><th scope=col>dfstime5</th></tr>\n",
       "\t<tr><th></th><th scope=col>&lt;int&gt;</th><th scope=col>&lt;int&gt;</th><th scope=col>&lt;int&gt;</th><th scope=col>&lt;int&gt;</th><th scope=col>&lt;dbl&gt;</th><th scope=col>&lt;int&gt;</th><th scope=col>&lt;dbl&gt;</th></tr>\n",
       "</thead>\n",
       "<tbody>\n",
       "\t<tr><th scope=row>1</th><td>1</td><td>0</td><td> 749</td><td>1</td><td> 627</td><td>1</td><td> 627</td></tr>\n",
       "\t<tr><th scope=row>2</th><td>2</td><td>0</td><td> 291</td><td>0</td><td> 291</td><td>0</td><td> 291</td></tr>\n",
       "\t<tr><th scope=row>3</th><td>3</td><td>0</td><td>1065</td><td>0</td><td>1042</td><td>0</td><td>1042</td></tr>\n",
       "\t<tr><th scope=row>4</th><td>4</td><td>0</td><td>1697</td><td>0</td><td>1697</td><td>0</td><td>1697</td></tr>\n",
       "\t<tr><th scope=row>5</th><td>5</td><td>0</td><td> 338</td><td>0</td><td> 338</td><td>0</td><td> 338</td></tr>\n",
       "\t<tr><th scope=row>6</th><td>6</td><td>0</td><td> 792</td><td>1</td><td> 792</td><td>1</td><td> 792</td></tr>\n",
       "</tbody>\n",
       "</table>\n"
      ],
      "text/latex": [
       "A data.frame: 6 × 7\n",
       "\\begin{tabular}{r|lllllll}\n",
       "  & mask\\_id & fustat8 & futime8 & pgstat5 & pgtime5 & dfsstat5 & dfstime5\\\\\n",
       "  & <int> & <int> & <int> & <int> & <dbl> & <int> & <dbl>\\\\\n",
       "\\hline\n",
       "\t1 & 1 & 0 &  749 & 1 &  627 & 1 &  627\\\\\n",
       "\t2 & 2 & 0 &  291 & 0 &  291 & 0 &  291\\\\\n",
       "\t3 & 3 & 0 & 1065 & 0 & 1042 & 0 & 1042\\\\\n",
       "\t4 & 4 & 0 & 1697 & 0 & 1697 & 0 & 1697\\\\\n",
       "\t5 & 5 & 0 &  338 & 0 &  338 & 0 &  338\\\\\n",
       "\t6 & 6 & 0 &  792 & 1 &  792 & 1 &  792\\\\\n",
       "\\end{tabular}\n"
      ],
      "text/markdown": [
       "\n",
       "A data.frame: 6 × 7\n",
       "\n",
       "| <!--/--> | mask_id &lt;int&gt; | fustat8 &lt;int&gt; | futime8 &lt;int&gt; | pgstat5 &lt;int&gt; | pgtime5 &lt;dbl&gt; | dfsstat5 &lt;int&gt; | dfstime5 &lt;dbl&gt; |\n",
       "|---|---|---|---|---|---|---|---|\n",
       "| 1 | 1 | 0 |  749 | 1 |  627 | 1 |  627 |\n",
       "| 2 | 2 | 0 |  291 | 0 |  291 | 0 |  291 |\n",
       "| 3 | 3 | 0 | 1065 | 0 | 1042 | 0 | 1042 |\n",
       "| 4 | 4 | 0 | 1697 | 0 | 1697 | 0 | 1697 |\n",
       "| 5 | 5 | 0 |  338 | 0 |  338 | 0 |  338 |\n",
       "| 6 | 6 | 0 |  792 | 1 |  792 | 1 |  792 |\n",
       "\n"
      ],
      "text/plain": [
       "  mask_id fustat8 futime8 pgstat5 pgtime5 dfsstat5 dfstime5\n",
       "1 1       0        749    1        627    1         627    \n",
       "2 2       0        291    0        291    0         291    \n",
       "3 3       0       1065    0       1042    0        1042    \n",
       "4 4       0       1697    0       1697    0        1697    \n",
       "5 5       0        338    0        338    0         338    \n",
       "6 6       0        792    1        792    1         792    "
      ]
     },
     "metadata": {},
     "output_type": "display_data"
    },
    {
     "data": {
      "text/html": [
       "<table class=\"dataframe\">\n",
       "<caption>A data.frame: 6 × 4</caption>\n",
       "<thead>\n",
       "\t<tr><th></th><th scope=col>mask_id</th><th scope=col>ARM</th><th scope=col>GRADE</th><th scope=col>tox</th></tr>\n",
       "\t<tr><th></th><th scope=col>&lt;int&gt;</th><th scope=col>&lt;chr&gt;</th><th scope=col>&lt;int&gt;</th><th scope=col>&lt;chr&gt;</th></tr>\n",
       "</thead>\n",
       "<tbody>\n",
       "\t<tr><th scope=row>1</th><td> 2</td><td>D</td><td>3</td><td>Anorexia            </td></tr>\n",
       "\t<tr><th scope=row>2</th><td> 5</td><td>D</td><td>3</td><td>Paresthesias        </td></tr>\n",
       "\t<tr><th scope=row>3</th><td> 6</td><td>D</td><td>3</td><td>Paresthesias        </td></tr>\n",
       "\t<tr><th scope=row>4</th><td>11</td><td>D</td><td>3</td><td>Paresthesias        </td></tr>\n",
       "\t<tr><th scope=row>5</th><td>11</td><td>D</td><td>3</td><td>Stomatitis/Mucositis</td></tr>\n",
       "\t<tr><th scope=row>6</th><td>13</td><td>D</td><td>3</td><td>Acne/Rash           </td></tr>\n",
       "</tbody>\n",
       "</table>\n"
      ],
      "text/latex": [
       "A data.frame: 6 × 4\n",
       "\\begin{tabular}{r|llll}\n",
       "  & mask\\_id & ARM & GRADE & tox\\\\\n",
       "  & <int> & <chr> & <int> & <chr>\\\\\n",
       "\\hline\n",
       "\t1 &  2 & D & 3 & Anorexia            \\\\\n",
       "\t2 &  5 & D & 3 & Paresthesias        \\\\\n",
       "\t3 &  6 & D & 3 & Paresthesias        \\\\\n",
       "\t4 & 11 & D & 3 & Paresthesias        \\\\\n",
       "\t5 & 11 & D & 3 & Stomatitis/Mucositis\\\\\n",
       "\t6 & 13 & D & 3 & Acne/Rash           \\\\\n",
       "\\end{tabular}\n"
      ],
      "text/markdown": [
       "\n",
       "A data.frame: 6 × 4\n",
       "\n",
       "| <!--/--> | mask_id &lt;int&gt; | ARM &lt;chr&gt; | GRADE &lt;int&gt; | tox &lt;chr&gt; |\n",
       "|---|---|---|---|---|\n",
       "| 1 |  2 | D | 3 | Anorexia             |\n",
       "| 2 |  5 | D | 3 | Paresthesias         |\n",
       "| 3 |  6 | D | 3 | Paresthesias         |\n",
       "| 4 | 11 | D | 3 | Paresthesias         |\n",
       "| 5 | 11 | D | 3 | Stomatitis/Mucositis |\n",
       "| 6 | 13 | D | 3 | Acne/Rash            |\n",
       "\n"
      ],
      "text/plain": [
       "  mask_id ARM GRADE tox                 \n",
       "1  2      D   3     Anorexia            \n",
       "2  5      D   3     Paresthesias        \n",
       "3  6      D   3     Paresthesias        \n",
       "4 11      D   3     Paresthesias        \n",
       "5 11      D   3     Stomatitis/Mucositis\n",
       "6 13      D   3     Acne/Rash           "
      ]
     },
     "metadata": {},
     "output_type": "display_data"
    }
   ],
   "source": [
    "clinical <- read.csv(\"/home/alex/Documents/lab/RCT-ITE/dat/PDS/Colorec_Allianc_2004_161_NCT00079274/characteristic.csv\")\n",
    "outcome <- read.csv(\"/home/alex/Documents/lab/RCT-ITE/dat/PDS/Colorec_Allianc_2004_161_NCT00079274/objectives.csv\")\n",
    "ae <- read.csv(\"/home/alex/Documents/lab/RCT-ITE/dat/PDS/Colorec_Allianc_2004_161_NCT00079274/tox.csv\")\n",
    "\n",
    "head(clinical)\n",
    "head(outcome)\n",
    "head(ae)"
   ]
  },
  {
   "cell_type": "code",
   "execution_count": null,
   "metadata": {},
   "outputs": [],
   "source": [
    "# Encode AE into categorical indicator, without grade information\n",
    "ae_count <- ae %>% group_by(mask_id) %>% tally()\n",
    "colnames(ae_count) <- c(\"mask_id\", \"ae_count\")\n",
    "\n",
    "WYX <- left_join(clinical, ae_count, by = c(\"mask_id\"))\n",
    "WYX$ae_count[is.na(WYX$ae_count)] <- 0\n",
    "\n",
    "WYX <- left_join(outcome, WYX, by = c(\"mask_id\"))\n",
    "\n",
    "cat_col <- c(\"SEX\", \"racecat\", \"agecat\")\n",
    "for (categorical_col in cat_col) {\n",
    "    WYX[[paste0(categorical_col)]] <- as.numeric(as.factor(WYX[[categorical_col]]))\n",
    "}\n",
    "\n",
    "# Remove excluded patients\n",
    "WYX <- WYX[is.na(WYX$EXCLUDED),]\n",
    "WYX$EXCLUDED <- NULL\n"
   ]
  },
  {
   "cell_type": "code",
   "execution_count": null,
   "metadata": {},
   "outputs": [],
   "source": [
    "# Impute missing covariate data with KNN\n",
    "\n",
    "informative_col <- c(\"mask_id\", \"ADHERENC\", \"BWL_OBS\",  \"BWL_PERF\", \"HISTO_G\", \"NODES\", \"SEX\", \"STAGE_G\", \"BAD_TOX\", \"DRG_DTH\", \"ENDATRSN\", \"NUMCYCLE\", \"PS\", \"wild\",  \"bmi2\", \"racecat\", \"agecat\")\n",
    "imp_X <- dplyr::select(WYX, all_of(informative_col))\n",
    "\n",
    "# summarize missing data in each col\n",
    "print(apply(imp_X, 2, function(X) sum(is.na(X))))\n",
    "\n",
    "# DRG_DTH and BAD_TOX are derivable from the AE dataframe\n",
    "new_DRG_DTH <- filter(ae, GRADE >= 5) %>% select(mask_id) %>% group_by(mask_id) %>% tally()\n",
    "colnames(new_DRG_DTH)[2] <- \"new_DRG_DTH\"\n",
    "new_BAD_TOX <- filter(ae, GRADE >= 4) %>% select(mask_id) %>% group_by(mask_id) %>% tally()\n",
    "colnames(new_BAD_TOX)[2] <- \"new_BAD_TOX\"\n",
    "\n",
    "imp_X <- left_join(imp_X, new_DRG_DTH, by = c(\"mask_id\"))\n",
    "imp_X <- left_join(imp_X, new_BAD_TOX, by = c(\"mask_id\"))\n",
    "\n",
    "imp_X$new_BAD_TOX[is.na(imp_X$new_BAD_TOX)] <- 0\n",
    "imp_X$new_DRG_DTH[is.na(imp_X$new_DRG_DTH)] <- 0\n",
    "\n",
    "imp_X <- dplyr::select(imp_X, -c(\"DRG_DTH\", \"BAD_TOX\"))\n",
    "\n",
    "# scale these covariate from 0 to 1\n",
    "imp_X_scaled <- apply(dplyr::select(imp_X, -\"mask_id\"), MARGIN = 2, FUN = function(X) (X - min(X, na.rm = TRUE))/diff(range(X, na.rm = TRUE)))\n",
    "\n",
    "imp_X_scaled <- impute.knn(imp_X_scaled, k = 5)\n",
    "imp_X_scaled <- as.data.frame(imp_X_scaled$data)\n",
    "\n",
    "for (covar_col in colnames(imp_X_scaled)) {\n",
    "    org_min <- min(imp_X[[covar_col]], na.rm = TRUE)\n",
    "    org_diff <- diff(range(imp_X[[covar_col]], na.rm = TRUE))\n",
    "    imp_X_scaled[[covar_col]] <- imp_X_scaled[[covar_col]] * org_diff + org_min\n",
    "}\n",
    "print(apply(imp_X_scaled, 2, function(X) sum(is.na(X))))\n",
    "imp_X_scaled <- cbind(imp_X$mask_id, imp_X_scaled)\n",
    "colnames(imp_X_scaled)[1] <- \"mask_id\"\n",
    "\n",
    "# apply to original dataset\n",
    "WYX <- dplyr::select(WYX, -all_of(informative_col[2:length(informative_col)]))\n",
    "WYX <- left_join(WYX, imp_X_scaled, by = c(\"mask_id\"))"
   ]
  },
  {
   "cell_type": "code",
   "execution_count": null,
   "metadata": {},
   "outputs": [],
   "source": [
    "# processing outcome\n",
    "source(\"/home/alex/Documents/lab/RCT-ITE/bin/survival_to_Y_func.R\")\n",
    "\n",
    "# convert days to months\n",
    "methods <- c(\"datta\", \"datta.impYn\", \"pseudo\")\n",
    "\n",
    "Y_DFS <- data.frame(mask_id = WYX$mask_id)\n",
    "Y_OS <- data.frame(mask_id = WYX$mask_id)\n",
    "Y_PFS <- data.frame(mask_id = WYX$mask_id)\n",
    "\n",
    "Y_DFS <- cbind(Y_DFS, surv_to_Y(time = ((WYX$dfstime5)/30.417), event = WYX$dfsstat5, X = dplyr::select(imp_X_scaled, -\"mask_id\"), method = \"all\"))\n",
    "colnames(Y_DFS)[2:4] <- paste0(\"DFS_\", colnames(Y_DFS)[2:4])\n",
    "\n",
    "Y_OS <- cbind(Y_OS, surv_to_Y(time = ((WYX$futime8)/30.417), event = WYX$fustat8, X = dplyr::select(imp_X_scaled, -\"mask_id\"), method = \"all\"))\n",
    "colnames(Y_OS)[2:4] <- paste0(\"OS_\", colnames(Y_OS)[2:4])\n",
    "\n",
    "Y_PFS <- cbind(Y_PFS, surv_to_Y(time = ((WYX$pgtime5)/30.417), event = WYX$pgstat5, X = dplyr::select(imp_X_scaled, -\"mask_id\"), method = \"all\"))\n",
    "colnames(Y_PFS)[2:4] <- paste0(\"PFS_\", colnames(Y_PFS)[2:4])\n",
    "\n",
    "WYX <- left_join(Y_DFS, WYX, by = c(\"mask_id\"))\n",
    "WYX <- left_join(Y_OS, WYX, by = c(\"mask_id\"))\n",
    "WYX <- left_join(Y_PFS, WYX, by = c(\"mask_id\"))\n",
    "\n",
    "remove_censored_data <- c(\"fustat8\", \"futime8\", \"pgstat5\",\"pgtime5\",  \"dfsstat5\",\"dfstime5\", \"LOST2FUP\", \"OBJ_STAT\", \"endat_time\")\n",
    "WYX <- dplyr::select(WYX, -all_of(remove_censored_data))\n",
    "\n",
    "head(WYX)"
   ]
  },
  {
   "cell_type": "code",
   "execution_count": null,
   "metadata": {},
   "outputs": [],
   "source": [
    "# binary treatment gropus datasets\n",
    "\n",
    "# the primary outcome arm A vs arm D:\n",
    "arm_AvD <- filter(WYX, ARM == \"A\" | ARM == \"D\")\n",
    "arm_AvD$W[arm_AvD$ARM == \"A\"] <- 0\n",
    "arm_AvD$W[arm_AvD$ARM == \"D\"] <- 1"
   ]
  },
  {
   "cell_type": "code",
   "execution_count": null,
   "metadata": {},
   "outputs": [],
   "source": [
    "# temp assignment\n",
    "W <- arm_AvD$W\n",
    "Y <- arm_AvD$FPS_datta.imputeYn \n",
    "X <- arm_AvD[,c(12:28)]"
   ]
  }
 ],
 "metadata": {
  "interpreter": {
   "hash": "e7370f93d1d0cde622a1f8e1c04877d8463912d04d973331ad4851f04de6915a"
  },
  "kernelspec": {
   "display_name": "R",
   "language": "R",
   "name": "ir"
  },
  "language_info": {
   "codemirror_mode": "r",
   "file_extension": ".r",
   "mimetype": "text/x-r-source",
   "name": "R",
   "pygments_lexer": "r",
   "version": "4.1.1"
  },
  "orig_nbformat": 4
 },
 "nbformat": 4,
 "nbformat_minor": 2
}

{
 "cells": [
  {
   "cell_type": "markdown",
   "metadata": {},
   "source": [
    "# Syn-validation implementation\n",
    "Paper: [Synth-Validation: Selecting the Best Causal Inference Method for a Given Dataset](http://arxiv.org/abs/1711.00083)\n",
    "\n",
    "1. Creating generative distributions informed by observed data\n",
    "2. using data sampled from distributions to benchmark\n",
    "\n",
    "THEORY\n",
    "1. Specify desired treatment effects ($\\tilde{\\tau_i}$)\n",
    "2. for each $\\tilde{\\tau_i}$ find generative distributions $P(\\tilde{X}, \\tilde{W}, \\tilde{Y})$ that satisfy $\\hat{\\tau_i}$ and maximizes the likelihood of observed data\n",
    "$$\n",
    "P(\\tilde{X}, \\tilde{W}, \\tilde{Y}) = P(\\tilde{Y} | \\tilde{X}, \\tilde{W}) P(\\tilde{X}, \\tilde{W})\n",
    "$$\n",
    "3. estimate $P(\\tilde{X}, \\tilde{W})$ using the empirical MLE distribution P(X*, W*)\n",
    "4. Treatment effect is the expectation of $\\tilde{Y}$ marginalized over $\\tilde{X}$\n",
    "\n",
    "$$\n",
    "\\begin{split}\n",
    "\\tilde{\\tau} & = E_{\\tilde{X}, \\tilde{Y}}[\\tilde{Y}, | \\tilde{X}, \\tilde{W} = 1] - E_{\\tilde{X}, \\tilde{Y}}[\\tilde{Y}, | \\tilde{X}, \\tilde{W} = 0] \\\\\n",
    "             & = \\frac{1}{n} \\Sigma_i E_{\\tilde{Y}}[\\tilde{Y}, | \\tilde{X} = x_i, \\tilde{W} = 1] - \\frac{1}{n} \\Sigma_i E_{\\tilde{Y}}[\\tilde{Y}, | \\tilde{X} = x_i, \\tilde{W} = 0] \\\\\n",
    "             & = \\frac{1}{n} \\Sigma_i E[\\mu_1(x_i) - \\mu_0(x_i)]\n",
    "\\end{split}\n",
    "$$\n",
    "\n",
    "PROCEDURES\n",
    "1. Pick list of synthetic effects\n",
    "2. For each synthetic effect estimate their $\\mu_0$ and $\\mu_1$"
   ]
  }
 ],
 "metadata": {
  "language_info": {
   "name": "python"
  },
  "orig_nbformat": 4
 },
 "nbformat": 4,
 "nbformat_minor": 2
}

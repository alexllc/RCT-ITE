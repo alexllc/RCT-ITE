{
 "cells": [
  {
   "cell_type": "code",
   "execution_count": null,
   "metadata": {},
   "outputs": [],
   "source": [
    "data(galaxies, package=\"MASS\")\n",
    "galaxies[78]<-26960\n",
    "gal<-as.data.frame(galaxies)\n",
    "rm(galaxies)"
   ]
  }
 ],
 "metadata": {
  "kernelspec": {
   "display_name": "R",
   "language": "R",
   "name": "ir"
  },
  "language_info": {
   "name": "R"
  },
  "orig_nbformat": 4
 },
 "nbformat": 4,
 "nbformat_minor": 2
}

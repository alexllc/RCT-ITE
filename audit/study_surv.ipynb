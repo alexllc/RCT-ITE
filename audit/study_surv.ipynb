{
 "cells": [
  {
   "cell_type": "code",
   "execution_count": 15,
   "metadata": {},
   "outputs": [
    {
     "name": "stderr",
     "output_type": "stream",
     "text": [
      "\n",
      "Attaching package: ‘dplyr’\n",
      "\n",
      "\n",
      "The following objects are masked from ‘package:stats’:\n",
      "\n",
      "    filter, lag\n",
      "\n",
      "\n",
      "The following objects are masked from ‘package:base’:\n",
      "\n",
      "    intersect, setdiff, setequal, union\n",
      "\n",
      "\n"
     ]
    }
   ],
   "source": [
    "library(survival)\n",
    "library(survminer)\n",
    "\n",
    "library(imputeYn)\n",
    "library(pseudo)\n",
    "\n",
    "library(dplyr)"
   ]
  },
  {
   "cell_type": "code",
   "execution_count": 4,
   "metadata": {},
   "outputs": [
    {
     "data": {
      "text/html": [
       "<table class=\"dataframe\">\n",
       "<caption>A data.frame: 6 × 37</caption>\n",
       "<thead>\n",
       "\t<tr><th></th><th scope=col>MASK_ID</th><th scope=col>PERFORMANCE_ID</th><th scope=col>Hx_oth_cancer</th><th scope=col>stable_weigh</th><th scope=col>examed_by_radiation_oncologist</th><th scope=col>bilateral_renal_function</th><th scope=col>No_cardiact_condition</th><th scope=col>prior_chemo</th><th scope=col>prior_radiation</th><th scope=col>Gastro_esophageal_junction</th><th scope=col>⋯</th><th scope=col>SEX_ID</th><th scope=col>RACE_ID</th><th scope=col>TREAT_ASSIGNED</th><th scope=col>STRATUM_GRP_ID</th><th scope=col>death_final</th><th scope=col>os_year</th><th scope=col>DFS_status</th><th scope=col>DFS_year</th><th scope=col>offtrt_reason</th><th scope=col>agecat</th></tr>\n",
       "\t<tr><th></th><th scope=col>&lt;int&gt;</th><th scope=col>&lt;int&gt;</th><th scope=col>&lt;int&gt;</th><th scope=col>&lt;int&gt;</th><th scope=col>&lt;int&gt;</th><th scope=col>&lt;int&gt;</th><th scope=col>&lt;int&gt;</th><th scope=col>&lt;int&gt;</th><th scope=col>&lt;int&gt;</th><th scope=col>&lt;int&gt;</th><th scope=col>⋯</th><th scope=col>&lt;int&gt;</th><th scope=col>&lt;int&gt;</th><th scope=col>&lt;int&gt;</th><th scope=col>&lt;int&gt;</th><th scope=col>&lt;int&gt;</th><th scope=col>&lt;dbl&gt;</th><th scope=col>&lt;int&gt;</th><th scope=col>&lt;dbl&gt;</th><th scope=col>&lt;int&gt;</th><th scope=col>&lt;int&gt;</th></tr>\n",
       "</thead>\n",
       "<tbody>\n",
       "\t<tr><th scope=row>1</th><td>1</td><td>1</td><td>1</td><td>2</td><td>1</td><td>1</td><td>1</td><td>0</td><td>0</td><td>0</td><td>⋯</td><td>1</td><td>1</td><td>2</td><td> 1</td><td>0</td><td>5.5879535</td><td>0</td><td>5.5879535</td><td> 1</td><td>1</td></tr>\n",
       "\t<tr><th scope=row>2</th><td>2</td><td>1</td><td>1</td><td>2</td><td>0</td><td>1</td><td>1</td><td>0</td><td>0</td><td>0</td><td>⋯</td><td>2</td><td>3</td><td>1</td><td>11</td><td>0</td><td>3.6796715</td><td>1</td><td>3.6139630</td><td>11</td><td>1</td></tr>\n",
       "\t<tr><th scope=row>3</th><td>3</td><td>0</td><td>1</td><td>2</td><td>1</td><td>1</td><td>1</td><td>0</td><td>0</td><td>0</td><td>⋯</td><td>1</td><td>1</td><td>1</td><td>11</td><td>1</td><td>0.7857632</td><td>1</td><td>0.5393566</td><td> 1</td><td>1</td></tr>\n",
       "\t<tr><th scope=row>4</th><td>4</td><td>1</td><td>1</td><td>2</td><td>1</td><td>1</td><td>1</td><td>0</td><td>0</td><td>0</td><td>⋯</td><td>2</td><td>1</td><td>1</td><td> 1</td><td>0</td><td>7.3347023</td><td>0</td><td>7.3347023</td><td> 1</td><td>1</td></tr>\n",
       "\t<tr><th scope=row>5</th><td>5</td><td>1</td><td>1</td><td>2</td><td>1</td><td>1</td><td>1</td><td>0</td><td>0</td><td>0</td><td>⋯</td><td>2</td><td>3</td><td>1</td><td>11</td><td>1</td><td>5.2950034</td><td>1</td><td>5.2950034</td><td> 1</td><td>2</td></tr>\n",
       "\t<tr><th scope=row>6</th><td>6</td><td>0</td><td>1</td><td>2</td><td>1</td><td>0</td><td>0</td><td>0</td><td>0</td><td>0</td><td>⋯</td><td>2</td><td>9</td><td>2</td><td> 5</td><td>0</td><td>6.7624914</td><td>0</td><td>6.7624914</td><td> 1</td><td>1</td></tr>\n",
       "</tbody>\n",
       "</table>\n"
      ],
      "text/latex": [
       "A data.frame: 6 × 37\n",
       "\\begin{tabular}{r|lllllllllllllllllllll}\n",
       "  & MASK\\_ID & PERFORMANCE\\_ID & Hx\\_oth\\_cancer & stable\\_weigh & examed\\_by\\_radiation\\_oncologist & bilateral\\_renal\\_function & No\\_cardiact\\_condition & prior\\_chemo & prior\\_radiation & Gastro\\_esophageal\\_junction & ⋯ & SEX\\_ID & RACE\\_ID & TREAT\\_ASSIGNED & STRATUM\\_GRP\\_ID & death\\_final & os\\_year & DFS\\_status & DFS\\_year & offtrt\\_reason & agecat\\\\\n",
       "  & <int> & <int> & <int> & <int> & <int> & <int> & <int> & <int> & <int> & <int> & ⋯ & <int> & <int> & <int> & <int> & <int> & <dbl> & <int> & <dbl> & <int> & <int>\\\\\n",
       "\\hline\n",
       "\t1 & 1 & 1 & 1 & 2 & 1 & 1 & 1 & 0 & 0 & 0 & ⋯ & 1 & 1 & 2 &  1 & 0 & 5.5879535 & 0 & 5.5879535 &  1 & 1\\\\\n",
       "\t2 & 2 & 1 & 1 & 2 & 0 & 1 & 1 & 0 & 0 & 0 & ⋯ & 2 & 3 & 1 & 11 & 0 & 3.6796715 & 1 & 3.6139630 & 11 & 1\\\\\n",
       "\t3 & 3 & 0 & 1 & 2 & 1 & 1 & 1 & 0 & 0 & 0 & ⋯ & 1 & 1 & 1 & 11 & 1 & 0.7857632 & 1 & 0.5393566 &  1 & 1\\\\\n",
       "\t4 & 4 & 1 & 1 & 2 & 1 & 1 & 1 & 0 & 0 & 0 & ⋯ & 2 & 1 & 1 &  1 & 0 & 7.3347023 & 0 & 7.3347023 &  1 & 1\\\\\n",
       "\t5 & 5 & 1 & 1 & 2 & 1 & 1 & 1 & 0 & 0 & 0 & ⋯ & 2 & 3 & 1 & 11 & 1 & 5.2950034 & 1 & 5.2950034 &  1 & 2\\\\\n",
       "\t6 & 6 & 0 & 1 & 2 & 1 & 0 & 0 & 0 & 0 & 0 & ⋯ & 2 & 9 & 2 &  5 & 0 & 6.7624914 & 0 & 6.7624914 &  1 & 1\\\\\n",
       "\\end{tabular}\n"
      ],
      "text/markdown": [
       "\n",
       "A data.frame: 6 × 37\n",
       "\n",
       "| <!--/--> | MASK_ID &lt;int&gt; | PERFORMANCE_ID &lt;int&gt; | Hx_oth_cancer &lt;int&gt; | stable_weigh &lt;int&gt; | examed_by_radiation_oncologist &lt;int&gt; | bilateral_renal_function &lt;int&gt; | No_cardiact_condition &lt;int&gt; | prior_chemo &lt;int&gt; | prior_radiation &lt;int&gt; | Gastro_esophageal_junction &lt;int&gt; | ⋯ ⋯ | SEX_ID &lt;int&gt; | RACE_ID &lt;int&gt; | TREAT_ASSIGNED &lt;int&gt; | STRATUM_GRP_ID &lt;int&gt; | death_final &lt;int&gt; | os_year &lt;dbl&gt; | DFS_status &lt;int&gt; | DFS_year &lt;dbl&gt; | offtrt_reason &lt;int&gt; | agecat &lt;int&gt; |\n",
       "|---|---|---|---|---|---|---|---|---|---|---|---|---|---|---|---|---|---|---|---|---|---|\n",
       "| 1 | 1 | 1 | 1 | 2 | 1 | 1 | 1 | 0 | 0 | 0 | ⋯ | 1 | 1 | 2 |  1 | 0 | 5.5879535 | 0 | 5.5879535 |  1 | 1 |\n",
       "| 2 | 2 | 1 | 1 | 2 | 0 | 1 | 1 | 0 | 0 | 0 | ⋯ | 2 | 3 | 1 | 11 | 0 | 3.6796715 | 1 | 3.6139630 | 11 | 1 |\n",
       "| 3 | 3 | 0 | 1 | 2 | 1 | 1 | 1 | 0 | 0 | 0 | ⋯ | 1 | 1 | 1 | 11 | 1 | 0.7857632 | 1 | 0.5393566 |  1 | 1 |\n",
       "| 4 | 4 | 1 | 1 | 2 | 1 | 1 | 1 | 0 | 0 | 0 | ⋯ | 2 | 1 | 1 |  1 | 0 | 7.3347023 | 0 | 7.3347023 |  1 | 1 |\n",
       "| 5 | 5 | 1 | 1 | 2 | 1 | 1 | 1 | 0 | 0 | 0 | ⋯ | 2 | 3 | 1 | 11 | 1 | 5.2950034 | 1 | 5.2950034 |  1 | 2 |\n",
       "| 6 | 6 | 0 | 1 | 2 | 1 | 0 | 0 | 0 | 0 | 0 | ⋯ | 2 | 9 | 2 |  5 | 0 | 6.7624914 | 0 | 6.7624914 |  1 | 1 |\n",
       "\n"
      ],
      "text/plain": [
       "  MASK_ID PERFORMANCE_ID Hx_oth_cancer stable_weigh\n",
       "1 1       1              1             2           \n",
       "2 2       1              1             2           \n",
       "3 3       0              1             2           \n",
       "4 4       1              1             2           \n",
       "5 5       1              1             2           \n",
       "6 6       0              1             2           \n",
       "  examed_by_radiation_oncologist bilateral_renal_function No_cardiact_condition\n",
       "1 1                              1                        1                    \n",
       "2 0                              1                        1                    \n",
       "3 1                              1                        1                    \n",
       "4 1                              1                        1                    \n",
       "5 1                              1                        1                    \n",
       "6 1                              0                        0                    \n",
       "  prior_chemo prior_radiation Gastro_esophageal_junction ⋯ SEX_ID RACE_ID\n",
       "1 0           0               0                          ⋯ 1      1      \n",
       "2 0           0               0                          ⋯ 2      3      \n",
       "3 0           0               0                          ⋯ 1      1      \n",
       "4 0           0               0                          ⋯ 2      1      \n",
       "5 0           0               0                          ⋯ 2      3      \n",
       "6 0           0               0                          ⋯ 2      9      \n",
       "  TREAT_ASSIGNED STRATUM_GRP_ID death_final os_year   DFS_status DFS_year \n",
       "1 2               1             0           5.5879535 0          5.5879535\n",
       "2 1              11             0           3.6796715 1          3.6139630\n",
       "3 1              11             1           0.7857632 1          0.5393566\n",
       "4 1               1             0           7.3347023 0          7.3347023\n",
       "5 1              11             1           5.2950034 1          5.2950034\n",
       "6 2               5             0           6.7624914 0          6.7624914\n",
       "  offtrt_reason agecat\n",
       "1  1            1     \n",
       "2 11            1     \n",
       "3  1            1     \n",
       "4  1            1     \n",
       "5  1            2     \n",
       "6  1            1     "
      ]
     },
     "metadata": {},
     "output_type": "display_data"
    }
   ],
   "source": [
    "df <- read.csv(\"/home/alex/Documents/lab/ctci/dat/PDS/Multiple_Allianc_2002_213_NCT00052910_esophageal/NCT00052910_D1_(EFFICACY).csv\")\n",
    "head(df)\n",
    "\n",
    "tx <- df$TREAT_ASSIGNED - 1\n",
    "outcome_col <- c(\"death_final\", \"os_year\", \"DFS_status\", \"DFS_year\")\n",
    "outcome <- dplyr::select(df, all_of(outcome_col))\n",
    "covar <- dplyr::select(df, -c(\"MASK_ID\", \"TREAT_ASSIGNED\", outcome_col))\n",
    "\n",
    "# prepare imputed covariate matrix (imported from Python)\n",
    "covar <- read.csv(\"./imputed_covar.csv\")\n",
    "covar$os_year <- NULL\n",
    "covar$TREAT_ASSIGNED <- NULL"
   ]
  },
  {
   "cell_type": "code",
   "execution_count": 6,
   "metadata": {},
   "outputs": [
    {
     "data": {
      "text/plain": [
       "    Min.  1st Qu.   Median     Mean  3rd Qu.     Max. \n",
       " 0.03833  1.34839  3.51628  5.36078 10.37152 11.42231 "
      ]
     },
     "metadata": {},
     "output_type": "display_data"
    }
   ],
   "source": [
    "# Efron's tail correction\n",
    "source(\"./original_surv.r\")\n",
    "datta_imp <- exp(impute.survival(surv.time = df$os_year, censor = df$death_final)) # no need to convert to log scale\n",
    "\n",
    "summary(datta_imp)"
   ]
  },
  {
   "cell_type": "code",
   "execution_count": 8,
   "metadata": {},
   "outputs": [
    {
     "data": {
      "text/plain": [
       "    Min.  1st Qu.   Median     Mean  3rd Qu.     Max. \n",
       " 0.03833  1.34839  3.53863  6.33700 12.75235 15.20308 "
      ]
     },
     "metadata": {},
     "output_type": "display_data"
    }
   ],
   "source": [
    "# Impute Yn and using impute Yn with Datta's method\n",
    "imp_Yn <- imputeYn(X = as.matrix(covar), Y = df$os_year, delta = df$death_final, method = \"condMean\")\n",
    "imp_os_year <- df$os_year\n",
    "imp_os_year[which(imp_os_year == max(imp_os_year))] <- imp_Yn$Yn\n",
    "\n",
    "datta_imp_Yn <- exp(impute.survival(surv.time = imp_os_year, censor = df$death_final))\n",
    "summary(datta_imp_Yn)"
   ]
  },
  {
   "cell_type": "code",
   "execution_count": 23,
   "metadata": {},
   "outputs": [
    {
     "name": "stdout",
     "output_type": "stream",
     "text": [
      "Call: survfit(formula = Surv(df$os_year, df$death_final) ~ 1)\n",
      "\n",
      "         n     events     *rmean *se(rmean)     median    0.95LCL    0.95UCL \n",
      "   546.000    322.000      5.479      0.216      3.518      2.979      4.794 \n",
      "    * restricted mean with upper limit =  11.4 \n"
     ]
    },
    {
     "data": {
      "image/png": "[encoded data removed]",
      "text/plain": [
       "plot without title"
      ]
     },
     "metadata": {
      "image/png": {
       "height": 420,
       "width": 420
      }
     },
     "output_type": "display_data"
    }
   ],
   "source": [
    "km_fit <- survfit(Surv(df$os_year, df$death_final) ~ 1)\n",
    "print(km_fit, rmean = \"common\")\n",
    "plot(km_fit)"
   ]
  },
  {
   "cell_type": "code",
   "execution_count": 25,
   "metadata": {},
   "outputs": [
    {
     "name": "stdout",
     "output_type": "stream",
     "text": [
      "Call: survfit(formula = Surv(bothcensored$os_year, bothcensored$death_final) ~ \n",
      "    1)\n",
      "\n",
      "         n     events     *rmean *se(rmean)     median    0.95LCL    0.95UCL \n",
      "   545.000    321.000      5.529      0.212      3.518      2.979      4.783 \n",
      "    * restricted mean with upper limit =  11.4 \n"
     ]
    },
    {
     "data": {
      "image/png": "[encoded data removed]",
      "text/plain": [
       "plot without title"
      ]
     },
     "metadata": {
      "image/png": {
       "height": 420,
       "width": 420
      }
     },
     "output_type": "display_data"
    }
   ],
   "source": [
    "uncensored <- df %>% filter(death_final == 1)\n",
    "uncensored <- uncensored %>% slice_min(os_year, n = dim(uncensored)[1] - 1)\n",
    "bothcensored <- rbind(uncensored, filter(df, death_final == 0))\n",
    "del_largest_k <- survfit(Surv(bothcensored$os_year, bothcensored$death_final) ~ 1)\n",
    "print(del_largest_k, rmean = \"common\")\n",
    "plot(del_largest_k)"
   ]
  },
  {
   "cell_type": "code",
   "execution_count": 12,
   "metadata": {},
   "outputs": [
    {
     "data": {
      "image/png": "[encoded data removed]",
      "text/plain": [
       "plot without title"
      ]
     },
     "metadata": {
      "image/png": {
       "height": 420,
       "width": 420
      }
     },
     "output_type": "display_data"
    }
   ],
   "source": [
    "imp_km_fit <- survfit(Surv(imp_os_year, df$death_final) ~ 1)\n",
    "plot(km_fit)"
   ]
  },
  {
   "cell_type": "code",
   "execution_count": 9,
   "metadata": {},
   "outputs": [
    {
     "data": {
      "text/plain": [
       "   Min. 1st Qu.  Median    Mean 3rd Qu.    Max. \n",
       "-15.153   1.169   3.400   5.353  10.506  16.691 "
      ]
     },
     "metadata": {},
     "output_type": "display_data"
    }
   ],
   "source": [
    "# Pseudo-observation\n",
    "ps_mean <- pseudomean(time = df$os_year, event = df$death_final, tmax = floor(max(df$os_year))) # negative values are normal\n",
    "summary(ps_mean)"
   ]
  },
  {
   "cell_type": "markdown",
   "metadata": {},
   "source": [
    "# I made a mistake here, the Efron's tail correction has nothing to do with the `impute.survival` function\n",
    "\n",
    "# The basics of KM estimators\n",
    "\n",
    "## Non-parametric methods to estimate $S(t)$\n",
    "\n",
    "Suppose you do not have censored observations, i.e. every subject is follow to death. Then the estimated survivorship function is:\n",
    "\n",
    "$$\n",
    "\\hat{S}(t_{(i)}) = \\frac{n-i}{n} = 1 - \\frac{i}{n}\n",
    "$$\n",
    "\n",
    "If there are tied observations, such as $t_{(2)} = t_{(3)} = t_{(4)}$, then you choose the largest $i$ for $\\hat{S}(t_{(i)})$, which is $i=4$ in this case.\n",
    "\n",
    "However, if you data consist of censored observations due to any reason, **YOU CANNOT USE THIS METHOD**. The dumb way to do it is going for *reduced-sample estimate*, which is simply removing the incompletely followed-up patients. But this does not utilize all the data. So you need the Kaplan & Meier product limit (PL) method.\n",
    "\n",
    "$$\n",
    "\\hat{S}(t) = \\hat{S}(t-1)p_t\n",
    "$$\n",
    "where $p_k$ is the proportion of patients surviving the $k^{th}$ year given they had survived through the $(k-1)^{th}$ year.\n",
    "\n",
    "### How to estimate $\\hat{S}(t)$ using the KM PL method\n",
    "\n",
    "Construct the following table\n",
    "\n",
    "| Remission time (t) | Rank (i) | r | $\\frac{n-r}{n-r+1}$ | $\\hat{S}(t)$ |\n",
    "|--------------------|----------|---|---------------------|--------------|\n",
    "|3.0| 1 | 1 | $\\frac{9}{10}$ | 0.9|\n",
    "|4.0+| 2 | - | - | - |\n",
    "|5.7+| 3 | - | - | - |\n",
    "|6.5| 4 | 4 | $\\frac{6}{7}$ | 0.771|\n",
    "|...|  |  |  |  |\n",
    "\n",
    "In other words, let $n$ be the total number of observation regardless of whether they're censored.\n",
    "\n",
    "$$\n",
    "\\hat{S}(t) = \\prod_{t_{(r)} \\leq t} \\frac{n-r}{n-r+1}\n",
    "$$\n",
    "\n",
    "where $r$ are the ranks of the uncensored observations.\n",
    "\n",
    "The variance of the PL estimate of $\\hat{S}(t)$ is\n",
    "\n",
    "$$\n",
    "Var[\\hat{S}(t)] \\cong [\\hat{S}(t)]^2 \\sum_r \\frac{1}{(n-r)(n-r+1)}\n",
    "$$\n",
    "\n",
    "If expressed in terms of the number of failure at time $t_{(i)}$, $d_i$.\n",
    "\n",
    "$$\n",
    "\\hat{S}(t) = \\prod_{t_{j=1}}^i \\left( 1 - \\frac{d_j}{n_j} \\right)\n",
    "$$\n",
    "\n",
    "and the corresponding variance\n",
    "$$\n",
    "Var[\\hat{S}(t)] = [\\hat{S}(t)]^2 \\sum_{j=1}^i \\frac{d_j}{n_j(n_j-d_j)}\n",
    "$$\n",
    "\n",
    "**In conclusion, you do not get the $\\hat{S}(t)$ for censored observations!!!** Let's check the `Surv` object to verify this."
   ]
  },
  {
   "cell_type": "code",
   "execution_count": null,
   "metadata": {},
   "outputs": [],
   "source": [
    "# Compare both approaches\n",
    "cmp_df <- data.frame(os_status = df$death_final, \n",
    "                     os_length = df$os_year,\n",
    "                     efron_est = efron_tail,\n",
    "                     pseudo_est = ps_mean)\n",
    "cmp_df <- cmp_df[order(cmp_df$os_length),]\n",
    "\n",
    "print(cmp_df)"
   ]
  }
 ],
 "metadata": {
  "kernelspec": {
   "display_name": "R",
   "language": "R",
   "name": "ir"
  },
  "language_info": {
   "codemirror_mode": "r",
   "file_extension": ".r",
   "mimetype": "text/x-r-source",
   "name": "R",
   "pygments_lexer": "r",
   "version": "4.1.1"
  },
  "orig_nbformat": 4
 },
 "nbformat": 4,
 "nbformat_minor": 2
}
